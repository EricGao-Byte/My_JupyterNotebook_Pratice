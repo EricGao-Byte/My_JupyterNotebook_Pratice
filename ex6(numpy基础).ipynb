{
 "cells": [
  {
   "cell_type": "markdown",
   "metadata": {},
   "source": [
    "# 通用函数(ufunc)"
   ]
  },
  {
   "cell_type": "markdown",
   "metadata": {},
   "source": [
    "以下都为一元ufunc"
   ]
  },
  {
   "cell_type": "code",
   "execution_count": 1,
   "metadata": {
    "ExecuteTime": {
     "end_time": "2020-10-31T11:57:55.297627Z",
     "start_time": "2020-10-31T11:57:55.293638Z"
    }
   },
   "outputs": [],
   "source": [
    "arr=np.arange(10)"
   ]
  },
  {
   "cell_type": "code",
   "execution_count": 2,
   "metadata": {
    "ExecuteTime": {
     "end_time": "2020-10-31T11:57:58.395734Z",
     "start_time": "2020-10-31T11:57:58.386758Z"
    }
   },
   "outputs": [
    {
     "data": {
      "text/plain": [
       "array([0, 1, 2, 3, 4, 5, 6, 7, 8, 9])"
      ]
     },
     "execution_count": 2,
     "metadata": {},
     "output_type": "execute_result"
    }
   ],
   "source": [
    "arr"
   ]
  },
  {
   "cell_type": "code",
   "execution_count": 3,
   "metadata": {
    "ExecuteTime": {
     "end_time": "2020-10-31T11:58:09.060507Z",
     "start_time": "2020-10-31T11:58:09.054526Z"
    }
   },
   "outputs": [
    {
     "data": {
      "text/plain": [
       "array([0.        , 1.        , 1.41421356, 1.73205081, 2.        ,\n",
       "       2.23606798, 2.44948974, 2.64575131, 2.82842712, 3.        ])"
      ]
     },
     "execution_count": 3,
     "metadata": {},
     "output_type": "execute_result"
    }
   ],
   "source": [
    "np.sqrt(arr)"
   ]
  },
  {
   "cell_type": "code",
   "execution_count": 4,
   "metadata": {
    "ExecuteTime": {
     "end_time": "2020-10-31T11:58:15.991739Z",
     "start_time": "2020-10-31T11:58:15.985756Z"
    }
   },
   "outputs": [
    {
     "data": {
      "text/plain": [
       "array([1.00000000e+00, 2.71828183e+00, 7.38905610e+00, 2.00855369e+01,\n",
       "       5.45981500e+01, 1.48413159e+02, 4.03428793e+02, 1.09663316e+03,\n",
       "       2.98095799e+03, 8.10308393e+03])"
      ]
     },
     "execution_count": 4,
     "metadata": {},
     "output_type": "execute_result"
    }
   ],
   "source": [
    "np.exp(arr)"
   ]
  },
  {
   "cell_type": "markdown",
   "metadata": {},
   "source": [
    "二元ufunc"
   ]
  },
  {
   "cell_type": "code",
   "execution_count": 5,
   "metadata": {
    "ExecuteTime": {
     "end_time": "2020-10-31T11:59:23.678508Z",
     "start_time": "2020-10-31T11:59:23.674506Z"
    }
   },
   "outputs": [],
   "source": [
    "x=np.random.randn(8)\n",
    "y=np.random.randn(8)"
   ]
  },
  {
   "cell_type": "code",
   "execution_count": 6,
   "metadata": {
    "ExecuteTime": {
     "end_time": "2020-10-31T11:59:25.871849Z",
     "start_time": "2020-10-31T11:59:25.866829Z"
    }
   },
   "outputs": [
    {
     "data": {
      "text/plain": [
       "array([-0.47419011,  0.75546564,  1.41836207, -0.09759886, -0.05105786,\n",
       "        0.73800739, -0.41437675,  0.80344568])"
      ]
     },
     "execution_count": 6,
     "metadata": {},
     "output_type": "execute_result"
    }
   ],
   "source": [
    "x"
   ]
  },
  {
   "cell_type": "code",
   "execution_count": 7,
   "metadata": {
    "ExecuteTime": {
     "end_time": "2020-10-31T11:59:28.129654Z",
     "start_time": "2020-10-31T11:59:28.125632Z"
    }
   },
   "outputs": [
    {
     "data": {
      "text/plain": [
       "array([ 0.56791194, -1.30382043, -1.37548524,  0.3989304 , -0.79764459,\n",
       "       -1.37206103, -1.57649689, -1.92909708])"
      ]
     },
     "execution_count": 7,
     "metadata": {},
     "output_type": "execute_result"
    }
   ],
   "source": [
    "y"
   ]
  },
  {
   "cell_type": "code",
   "execution_count": 8,
   "metadata": {
    "ExecuteTime": {
     "end_time": "2020-10-31T11:59:46.100506Z",
     "start_time": "2020-10-31T11:59:46.095509Z"
    }
   },
   "outputs": [
    {
     "data": {
      "text/plain": [
       "array([ 0.56791194,  0.75546564,  1.41836207,  0.3989304 , -0.05105786,\n",
       "        0.73800739, -0.41437675,  0.80344568])"
      ]
     },
     "execution_count": 8,
     "metadata": {},
     "output_type": "execute_result"
    }
   ],
   "source": [
    "np.maximum(x,y)"
   ]
  },
  {
   "cell_type": "markdown",
   "metadata": {},
   "source": [
    "有些ufunc可以返回多个数组"
   ]
  },
  {
   "cell_type": "markdown",
   "metadata": {},
   "source": [
    "modf就是一个例子  \n",
    "他可以返回浮点数组的小数部分和整数部分"
   ]
  },
  {
   "cell_type": "code",
   "execution_count": 9,
   "metadata": {
    "ExecuteTime": {
     "end_time": "2020-10-31T12:00:21.655594Z",
     "start_time": "2020-10-31T12:00:21.652585Z"
    }
   },
   "outputs": [],
   "source": [
    "arr=np.random.randn(7)*5"
   ]
  },
  {
   "cell_type": "code",
   "execution_count": 10,
   "metadata": {
    "ExecuteTime": {
     "end_time": "2020-10-31T12:00:23.735626Z",
     "start_time": "2020-10-31T12:00:23.730643Z"
    },
    "scrolled": true
   },
   "outputs": [
    {
     "data": {
      "text/plain": [
       "array([-4.00486179,  1.26933207,  9.3770855 ,  4.85419387, -2.0132134 ,\n",
       "       -3.11984906, -7.36892611])"
      ]
     },
     "execution_count": 10,
     "metadata": {},
     "output_type": "execute_result"
    }
   ],
   "source": [
    "arr"
   ]
  },
  {
   "cell_type": "code",
   "execution_count": 11,
   "metadata": {
    "ExecuteTime": {
     "end_time": "2020-10-31T12:02:11.672050Z",
     "start_time": "2020-10-31T12:02:11.668026Z"
    }
   },
   "outputs": [],
   "source": [
    "remainder,whole_part=np.modf(arr)"
   ]
  },
  {
   "cell_type": "code",
   "execution_count": 12,
   "metadata": {
    "ExecuteTime": {
     "end_time": "2020-10-31T12:02:14.210044Z",
     "start_time": "2020-10-31T12:02:14.204089Z"
    }
   },
   "outputs": [
    {
     "data": {
      "text/plain": [
       "array([-0.00486179,  0.26933207,  0.3770855 ,  0.85419387, -0.0132134 ,\n",
       "       -0.11984906, -0.36892611])"
      ]
     },
     "execution_count": 12,
     "metadata": {},
     "output_type": "execute_result"
    }
   ],
   "source": [
    "remainder # 小数部分"
   ]
  },
  {
   "cell_type": "code",
   "execution_count": 13,
   "metadata": {
    "ExecuteTime": {
     "end_time": "2020-10-31T12:02:41.726571Z",
     "start_time": "2020-10-31T12:02:41.720587Z"
    }
   },
   "outputs": [
    {
     "data": {
      "text/plain": [
       "array([-4.,  1.,  9.,  4., -2., -3., -7.])"
      ]
     },
     "execution_count": 13,
     "metadata": {},
     "output_type": "execute_result"
    }
   ],
   "source": [
    "whole_part # 整数部分"
   ]
  },
  {
   "cell_type": "markdown",
   "metadata": {},
   "source": [
    "ufuncs可以接受一个out可选参数  \n",
    "这样就能在数组原地进行操作"
   ]
  },
  {
   "cell_type": "code",
   "execution_count": 14,
   "metadata": {
    "ExecuteTime": {
     "end_time": "2020-10-31T12:03:47.769764Z",
     "start_time": "2020-10-31T12:03:47.763745Z"
    }
   },
   "outputs": [
    {
     "data": {
      "text/plain": [
       "array([-4.00486179,  1.26933207,  9.3770855 ,  4.85419387, -2.0132134 ,\n",
       "       -3.11984906, -7.36892611])"
      ]
     },
     "execution_count": 14,
     "metadata": {},
     "output_type": "execute_result"
    }
   ],
   "source": [
    "arr"
   ]
  },
  {
   "cell_type": "code",
   "execution_count": 15,
   "metadata": {
    "ExecuteTime": {
     "end_time": "2020-10-31T12:03:56.033512Z",
     "start_time": "2020-10-31T12:03:56.027557Z"
    }
   },
   "outputs": [
    {
     "name": "stderr",
     "output_type": "stream",
     "text": [
      "<ipython-input-15-b58949107b3d>:1: RuntimeWarning: invalid value encountered in sqrt\n",
      "  np.sqrt(arr)\n"
     ]
    },
    {
     "data": {
      "text/plain": [
       "array([       nan, 1.12664638, 3.06220272, 2.20322352,        nan,\n",
       "              nan,        nan])"
      ]
     },
     "execution_count": 15,
     "metadata": {},
     "output_type": "execute_result"
    }
   ],
   "source": [
    "np.sqrt(arr)"
   ]
  },
  {
   "cell_type": "code",
   "execution_count": 16,
   "metadata": {
    "ExecuteTime": {
     "end_time": "2020-10-31T12:04:13.163734Z",
     "start_time": "2020-10-31T12:04:13.158733Z"
    }
   },
   "outputs": [
    {
     "name": "stderr",
     "output_type": "stream",
     "text": [
      "<ipython-input-16-e3ca18b15869>:1: RuntimeWarning: invalid value encountered in sqrt\n",
      "  np.sqrt(arr,arr)\n"
     ]
    },
    {
     "data": {
      "text/plain": [
       "array([       nan, 1.12664638, 3.06220272, 2.20322352,        nan,\n",
       "              nan,        nan])"
      ]
     },
     "execution_count": 16,
     "metadata": {},
     "output_type": "execute_result"
    }
   ],
   "source": [
    "np.sqrt(arr,arr) # 原地将sqrt的内容传给arr"
   ]
  },
  {
   "cell_type": "code",
   "execution_count": 17,
   "metadata": {
    "ExecuteTime": {
     "end_time": "2020-10-31T12:04:40.795727Z",
     "start_time": "2020-10-31T12:04:40.789742Z"
    }
   },
   "outputs": [
    {
     "data": {
      "text/plain": [
       "array([       nan, 1.12664638, 3.06220272, 2.20322352,        nan,\n",
       "              nan,        nan])"
      ]
     },
     "execution_count": 17,
     "metadata": {},
     "output_type": "execute_result"
    }
   ],
   "source": [
    "arr # arr变为了sqrt后的值"
   ]
  },
  {
   "cell_type": "markdown",
   "metadata": {},
   "source": [
    "# 利用数组进行数据处理"
   ]
  },
  {
   "cell_type": "code",
   "execution_count": 20,
   "metadata": {
    "ExecuteTime": {
     "end_time": "2020-10-31T12:08:06.589861Z",
     "start_time": "2020-10-31T12:08:06.585847Z"
    }
   },
   "outputs": [],
   "source": [
    "points=np.arange(-5,5,0.01) # 1000 equally spaced points"
   ]
  },
  {
   "cell_type": "code",
   "execution_count": 21,
   "metadata": {
    "ExecuteTime": {
     "end_time": "2020-10-31T12:08:54.325044Z",
     "start_time": "2020-10-31T12:08:54.313052Z"
    }
   },
   "outputs": [],
   "source": [
    "xs,ys=np.meshgrid(points,points)"
   ]
  },
  {
   "cell_type": "code",
   "execution_count": 22,
   "metadata": {
    "ExecuteTime": {
     "end_time": "2020-10-31T12:08:56.880744Z",
     "start_time": "2020-10-31T12:08:56.874758Z"
    }
   },
   "outputs": [
    {
     "data": {
      "text/plain": [
       "array([[-5.  , -5.  , -5.  , ..., -5.  , -5.  , -5.  ],\n",
       "       [-4.99, -4.99, -4.99, ..., -4.99, -4.99, -4.99],\n",
       "       [-4.98, -4.98, -4.98, ..., -4.98, -4.98, -4.98],\n",
       "       ...,\n",
       "       [ 4.97,  4.97,  4.97, ...,  4.97,  4.97,  4.97],\n",
       "       [ 4.98,  4.98,  4.98, ...,  4.98,  4.98,  4.98],\n",
       "       [ 4.99,  4.99,  4.99, ...,  4.99,  4.99,  4.99]])"
      ]
     },
     "execution_count": 22,
     "metadata": {},
     "output_type": "execute_result"
    }
   ],
   "source": [
    "ys"
   ]
  },
  {
   "cell_type": "code",
   "execution_count": 23,
   "metadata": {
    "ExecuteTime": {
     "end_time": "2020-10-31T12:09:50.352742Z",
     "start_time": "2020-10-31T12:09:50.330799Z"
    }
   },
   "outputs": [],
   "source": [
    "z=np.sqrt(xs**2+ys**2)"
   ]
  },
  {
   "cell_type": "code",
   "execution_count": 24,
   "metadata": {
    "ExecuteTime": {
     "end_time": "2020-10-31T12:09:51.657731Z",
     "start_time": "2020-10-31T12:09:51.651715Z"
    }
   },
   "outputs": [
    {
     "data": {
      "text/plain": [
       "array([[7.07106781, 7.06400028, 7.05693985, ..., 7.04988652, 7.05693985,\n",
       "        7.06400028],\n",
       "       [7.06400028, 7.05692568, 7.04985815, ..., 7.04279774, 7.04985815,\n",
       "        7.05692568],\n",
       "       [7.05693985, 7.04985815, 7.04278354, ..., 7.03571603, 7.04278354,\n",
       "        7.04985815],\n",
       "       ...,\n",
       "       [7.04988652, 7.04279774, 7.03571603, ..., 7.0286414 , 7.03571603,\n",
       "        7.04279774],\n",
       "       [7.05693985, 7.04985815, 7.04278354, ..., 7.03571603, 7.04278354,\n",
       "        7.04985815],\n",
       "       [7.06400028, 7.05692568, 7.04985815, ..., 7.04279774, 7.04985815,\n",
       "        7.05692568]])"
      ]
     },
     "execution_count": 24,
     "metadata": {},
     "output_type": "execute_result"
    }
   ],
   "source": [
    "z"
   ]
  },
  {
   "cell_type": "code",
   "execution_count": 25,
   "metadata": {
    "ExecuteTime": {
     "end_time": "2020-10-31T12:10:24.759961Z",
     "start_time": "2020-10-31T12:10:24.460797Z"
    }
   },
   "outputs": [],
   "source": [
    "import matplotlib.pyplot as plt"
   ]
  },
  {
   "cell_type": "code",
   "execution_count": 30,
   "metadata": {
    "ExecuteTime": {
     "end_time": "2020-10-31T12:12:23.357801Z",
     "start_time": "2020-10-31T12:12:23.121434Z"
    }
   },
   "outputs": [
    {
     "data": {
      "text/plain": [
       "<matplotlib.colorbar.Colorbar at 0x1c7a9618c70>"
      ]
     },
     "execution_count": 30,
     "metadata": {},
     "output_type": "execute_result"
    },
    {
     "data": {
      "image/png": "[encoded data removed]",
      "text/plain": [
       "<Figure size 432x288 with 2 Axes>"
      ]
     },
     "metadata": {
      "needs_background": "light"
     },
     "output_type": "display_data"
    }
   ],
   "source": [
    "plt.imshow(z,cmap=plt.cm.gray)\n",
    "plt.title(\"Image plot of $\\sqrt{x^2 + y^2}$ for a grid of values\")\n",
    "plt.colorbar()"
   ]
  },
  {
   "cell_type": "code",
   "execution_count": 31,
   "metadata": {
    "ExecuteTime": {
     "end_time": "2020-10-31T12:14:04.846404Z",
     "start_time": "2020-10-31T12:14:04.843765Z"
    }
   },
   "outputs": [],
   "source": [
    "a=[1,2,3]\n",
    "b=[2,3,4]"
   ]
  },
  {
   "cell_type": "markdown",
   "metadata": {},
   "source": [
    "## 将条件逻辑表述为数组运算"
   ]
  },
  {
   "cell_type": "code",
   "execution_count": 39,
   "metadata": {
    "ExecuteTime": {
     "end_time": "2020-10-31T12:18:11.299373Z",
     "start_time": "2020-10-31T12:18:11.295352Z"
    }
   },
   "outputs": [],
   "source": [
    "xarr=np.array(np.arange(1.1,1.6,0.1))"
   ]
  },
  {
   "cell_type": "code",
   "execution_count": 40,
   "metadata": {
    "ExecuteTime": {
     "end_time": "2020-10-31T12:18:13.068594Z",
     "start_time": "2020-10-31T12:18:13.062608Z"
    }
   },
   "outputs": [
    {
     "data": {
      "text/plain": [
       "array([1.1, 1.2, 1.3, 1.4, 1.5])"
      ]
     },
     "execution_count": 40,
     "metadata": {},
     "output_type": "execute_result"
    }
   ],
   "source": [
    "xarr"
   ]
  },
  {
   "cell_type": "code",
   "execution_count": 41,
   "metadata": {
    "ExecuteTime": {
     "end_time": "2020-10-31T12:18:39.127988Z",
     "start_time": "2020-10-31T12:18:39.123989Z"
    }
   },
   "outputs": [],
   "source": [
    "yarr=np.array(np.arange(2.1,2.6,0.1))"
   ]
  },
  {
   "cell_type": "code",
   "execution_count": 42,
   "metadata": {
    "ExecuteTime": {
     "end_time": "2020-10-31T12:18:41.442223Z",
     "start_time": "2020-10-31T12:18:41.438243Z"
    }
   },
   "outputs": [
    {
     "data": {
      "text/plain": [
       "array([2.1, 2.2, 2.3, 2.4, 2.5])"
      ]
     },
     "execution_count": 42,
     "metadata": {},
     "output_type": "execute_result"
    }
   ],
   "source": [
    "yarr"
   ]
  },
  {
   "cell_type": "code",
   "execution_count": 43,
   "metadata": {
    "ExecuteTime": {
     "end_time": "2020-10-31T12:19:08.433214Z",
     "start_time": "2020-10-31T12:19:08.428226Z"
    }
   },
   "outputs": [],
   "source": [
    "cond = np.array([True, False, True, True, False])"
   ]
  },
  {
   "cell_type": "markdown",
   "metadata": {},
   "source": [
    "假设我们想要根据cond中的值选取xarr和yarr的值：  \n",
    "当cond中的值为True时，选取xarr的值，否则从yarr中选取"
   ]
  },
  {
   "cell_type": "code",
   "execution_count": 44,
   "metadata": {
    "ExecuteTime": {
     "end_time": "2020-10-31T12:20:26.969759Z",
     "start_time": "2020-10-31T12:20:26.965770Z"
    }
   },
   "outputs": [],
   "source": [
    "result=[(x if c else y) for x,y,c in zip(xarr,yarr,cond)]"
   ]
  },
  {
   "cell_type": "code",
   "execution_count": 45,
   "metadata": {
    "ExecuteTime": {
     "end_time": "2020-10-31T12:20:29.552247Z",
     "start_time": "2020-10-31T12:20:29.547229Z"
    }
   },
   "outputs": [
    {
     "data": {
      "text/plain": [
       "[1.1, 2.2, 1.3000000000000003, 1.4000000000000004, 2.5000000000000004]"
      ]
     },
     "execution_count": 45,
     "metadata": {},
     "output_type": "execute_result"
    }
   ],
   "source": [
    "result"
   ]
  },
  {
   "cell_type": "markdown",
   "metadata": {},
   "source": [
    "这有几个问题。第一，它对大数组的处理速度不是很快（因为所有工作都是由纯Python完成的）。第二，无法用于多维数组。若使用np.where，则可以将该功能写得非常简洁"
   ]
  },
  {
   "cell_type": "code",
   "execution_count": 46,
   "metadata": {
    "ExecuteTime": {
     "end_time": "2020-10-31T12:22:30.211414Z",
     "start_time": "2020-10-31T12:22:30.208450Z"
    }
   },
   "outputs": [],
   "source": [
    "result=np.where(cond,xarr,yarr)"
   ]
  },
  {
   "cell_type": "code",
   "execution_count": 47,
   "metadata": {
    "ExecuteTime": {
     "end_time": "2020-10-31T12:22:32.195384Z",
     "start_time": "2020-10-31T12:22:32.189366Z"
    }
   },
   "outputs": [
    {
     "data": {
      "text/plain": [
       "array([1.1, 2.2, 1.3, 1.4, 2.5])"
      ]
     },
     "execution_count": 47,
     "metadata": {},
     "output_type": "execute_result"
    }
   ],
   "source": [
    "result"
   ]
  },
  {
   "cell_type": "markdown",
   "metadata": {},
   "source": [
    "np.where第二和第三参数不必是数组,可以是标量值  \n",
    "where通常用作根据另一个数组产生新的数组  \n",
    "下面这个例子将正数替换为2 负数替换为-2"
   ]
  },
  {
   "cell_type": "code",
   "execution_count": 48,
   "metadata": {
    "ExecuteTime": {
     "end_time": "2020-10-31T12:23:27.614195Z",
     "start_time": "2020-10-31T12:23:27.610204Z"
    }
   },
   "outputs": [],
   "source": [
    "arr=np.random.randn(4,4)"
   ]
  },
  {
   "cell_type": "code",
   "execution_count": 49,
   "metadata": {
    "ExecuteTime": {
     "end_time": "2020-10-31T12:23:29.065924Z",
     "start_time": "2020-10-31T12:23:29.060429Z"
    }
   },
   "outputs": [
    {
     "data": {
      "text/plain": [
       "array([[ 1.0926597 , -0.56438697, -0.77711338, -0.39383858],\n",
       "       [-1.233316  ,  0.82441711,  0.68627145,  0.33066645],\n",
       "       [-0.29091134,  0.44308041,  1.81680695, -0.86370786],\n",
       "       [ 0.39540743,  0.35319912,  1.03679173, -0.00956507]])"
      ]
     },
     "execution_count": 49,
     "metadata": {},
     "output_type": "execute_result"
    }
   ],
   "source": [
    "arr"
   ]
  },
  {
   "cell_type": "code",
   "execution_count": 50,
   "metadata": {
    "ExecuteTime": {
     "end_time": "2020-10-31T12:23:32.174797Z",
     "start_time": "2020-10-31T12:23:32.170784Z"
    }
   },
   "outputs": [
    {
     "data": {
      "text/plain": [
       "array([[ True, False, False, False],\n",
       "       [False,  True,  True,  True],\n",
       "       [False,  True,  True, False],\n",
       "       [ True,  True,  True, False]])"
      ]
     },
     "execution_count": 50,
     "metadata": {},
     "output_type": "execute_result"
    }
   ],
   "source": [
    "arr>0"
   ]
  },
  {
   "cell_type": "code",
   "execution_count": 51,
   "metadata": {
    "ExecuteTime": {
     "end_time": "2020-10-31T12:23:51.765655Z",
     "start_time": "2020-10-31T12:23:51.761675Z"
    }
   },
   "outputs": [
    {
     "data": {
      "text/plain": [
       "array([[ 2, -2, -2, -2],\n",
       "       [-2,  2,  2,  2],\n",
       "       [-2,  2,  2, -2],\n",
       "       [ 2,  2,  2, -2]])"
      ]
     },
     "execution_count": 51,
     "metadata": {},
     "output_type": "execute_result"
    }
   ],
   "source": [
    "np.where(arr>0,2,-2)"
   ]
  },
  {
   "cell_type": "markdown",
   "metadata": {
    "ExecuteTime": {
     "end_time": "2020-10-31T12:27:25.501703Z",
     "start_time": "2020-10-31T12:27:25.491740Z"
    }
   },
   "source": [
    "将标量和数组结合起来  \n",
    "将2替换arr中所有正的值"
   ]
  },
  {
   "cell_type": "code",
   "execution_count": 52,
   "metadata": {
    "ExecuteTime": {
     "end_time": "2020-10-31T12:26:48.680830Z",
     "start_time": "2020-10-31T12:26:48.674845Z"
    }
   },
   "outputs": [
    {
     "data": {
      "text/plain": [
       "array([[ 2.        , -0.56438697, -0.77711338, -0.39383858],\n",
       "       [-1.233316  ,  2.        ,  2.        ,  2.        ],\n",
       "       [-0.29091134,  2.        ,  2.        , -0.86370786],\n",
       "       [ 2.        ,  2.        ,  2.        , -0.00956507]])"
      ]
     },
     "execution_count": 52,
     "metadata": {},
     "output_type": "execute_result"
    }
   ],
   "source": [
    "np.where(arr>0,2,arr)"
   ]
  },
  {
   "cell_type": "markdown",
   "metadata": {},
   "source": [
    "## 数学和统计方法"
   ]
  },
  {
   "cell_type": "code",
   "execution_count": 54,
   "metadata": {
    "ExecuteTime": {
     "end_time": "2020-10-31T12:28:05.045717Z",
     "start_time": "2020-10-31T12:28:05.041728Z"
    }
   },
   "outputs": [],
   "source": [
    "arr=np.random.rand(5,4)"
   ]
  },
  {
   "cell_type": "code",
   "execution_count": 55,
   "metadata": {
    "ExecuteTime": {
     "end_time": "2020-10-31T12:28:06.209035Z",
     "start_time": "2020-10-31T12:28:06.203051Z"
    }
   },
   "outputs": [
    {
     "data": {
      "text/plain": [
       "array([[0.23686292, 0.73188868, 0.03894908, 0.04423177],\n",
       "       [0.72487305, 0.38541231, 0.61679649, 0.74470564],\n",
       "       [0.01435294, 0.23022134, 0.88407152, 0.55913285],\n",
       "       [0.83139823, 0.78700011, 0.64434072, 0.71080606],\n",
       "       [0.19417466, 0.56845957, 0.92694043, 0.81125098]])"
      ]
     },
     "execution_count": 55,
     "metadata": {},
     "output_type": "execute_result"
    }
   ],
   "source": [
    "arr"
   ]
  },
  {
   "cell_type": "code",
   "execution_count": 56,
   "metadata": {
    "ExecuteTime": {
     "end_time": "2020-10-31T12:28:10.796603Z",
     "start_time": "2020-10-31T12:28:10.791617Z"
    }
   },
   "outputs": [
    {
     "data": {
      "text/plain": [
       "0.5342934676949984"
      ]
     },
     "execution_count": 56,
     "metadata": {},
     "output_type": "execute_result"
    }
   ],
   "source": [
    "arr.mean()"
   ]
  },
  {
   "cell_type": "code",
   "execution_count": 58,
   "metadata": {
    "ExecuteTime": {
     "end_time": "2020-10-31T12:28:29.519851Z",
     "start_time": "2020-10-31T12:28:29.514861Z"
    }
   },
   "outputs": [
    {
     "data": {
      "text/plain": [
       "0.5342934676949984"
      ]
     },
     "execution_count": 58,
     "metadata": {},
     "output_type": "execute_result"
    }
   ],
   "source": [
    "np.mean(arr)"
   ]
  },
  {
   "cell_type": "code",
   "execution_count": 59,
   "metadata": {
    "ExecuteTime": {
     "end_time": "2020-10-31T12:28:36.629274Z",
     "start_time": "2020-10-31T12:28:36.625252Z"
    }
   },
   "outputs": [
    {
     "data": {
      "text/plain": [
       "10.685869353899967"
      ]
     },
     "execution_count": 59,
     "metadata": {},
     "output_type": "execute_result"
    }
   ],
   "source": [
    "arr.sum()"
   ]
  },
  {
   "cell_type": "code",
   "execution_count": 60,
   "metadata": {
    "ExecuteTime": {
     "end_time": "2020-10-31T12:28:42.280476Z",
     "start_time": "2020-10-31T12:28:42.275490Z"
    }
   },
   "outputs": [
    {
     "data": {
      "text/plain": [
       "10.685869353899967"
      ]
     },
     "execution_count": 60,
     "metadata": {},
     "output_type": "execute_result"
    }
   ],
   "source": [
    "np.sum(arr)"
   ]
  },
  {
   "cell_type": "markdown",
   "metadata": {
    "ExecuteTime": {
     "end_time": "2020-10-31T12:32:22.319162Z",
     "start_time": "2020-10-31T12:32:22.314184Z"
    }
   },
   "source": [
    "mean和sum这类函数还可以接受一个axis(轴心)选项参数  \n",
    "用于计算该轴向上的统计值  \n",
    "最终结果是少一个维度的数组"
   ]
  },
  {
   "cell_type": "code",
   "execution_count": 61,
   "metadata": {
    "ExecuteTime": {
     "end_time": "2020-10-31T12:29:25.101273Z",
     "start_time": "2020-10-31T12:29:25.095289Z"
    }
   },
   "outputs": [
    {
     "data": {
      "text/plain": [
       "array([0.26298311, 0.61794687, 0.42194467, 0.74338628, 0.62520641])"
      ]
     },
     "execution_count": 61,
     "metadata": {},
     "output_type": "execute_result"
    }
   ],
   "source": [
    "arr.mean(axis=1) # 计算行的平均值"
   ]
  },
  {
   "cell_type": "code",
   "execution_count": 62,
   "metadata": {
    "ExecuteTime": {
     "end_time": "2020-10-31T12:30:06.351483Z",
     "start_time": "2020-10-31T12:30:06.346496Z"
    }
   },
   "outputs": [
    {
     "data": {
      "text/plain": [
       "array([2.00166181, 2.702982  , 3.11109824, 2.87012731])"
      ]
     },
     "execution_count": 62,
     "metadata": {},
     "output_type": "execute_result"
    }
   ],
   "source": [
    "arr.sum(axis=0) # 计算每列的和"
   ]
  },
  {
   "cell_type": "code",
   "execution_count": 64,
   "metadata": {
    "ExecuteTime": {
     "end_time": "2020-10-31T12:32:49.378071Z",
     "start_time": "2020-10-31T12:32:49.374082Z"
    }
   },
   "outputs": [],
   "source": [
    "arr=np.array([0, 1, 2, 3, 4, 5, 6, 7])"
   ]
  },
  {
   "cell_type": "code",
   "execution_count": 66,
   "metadata": {
    "ExecuteTime": {
     "end_time": "2020-10-31T12:33:05.085792Z",
     "start_time": "2020-10-31T12:33:05.080804Z"
    }
   },
   "outputs": [
    {
     "data": {
      "text/plain": [
       "array([ 0,  1,  3,  6, 10, 15, 21, 28], dtype=int32)"
      ]
     },
     "execution_count": 66,
     "metadata": {},
     "output_type": "execute_result"
    }
   ],
   "source": [
    "arr.cumsum()"
   ]
  },
  {
   "cell_type": "code",
   "execution_count": 68,
   "metadata": {
    "ExecuteTime": {
     "end_time": "2020-10-31T12:33:39.602275Z",
     "start_time": "2020-10-31T12:33:39.598251Z"
    }
   },
   "outputs": [],
   "source": [
    "arr=np.array([[0, 1, 2], [3, 4, 5], [6, 7, 8]])"
   ]
  },
  {
   "cell_type": "code",
   "execution_count": 69,
   "metadata": {
    "ExecuteTime": {
     "end_time": "2020-10-31T12:33:41.331307Z",
     "start_time": "2020-10-31T12:33:41.326313Z"
    }
   },
   "outputs": [
    {
     "data": {
      "text/plain": [
       "array([[0, 1, 2],\n",
       "       [3, 4, 5],\n",
       "       [6, 7, 8]])"
      ]
     },
     "execution_count": 69,
     "metadata": {},
     "output_type": "execute_result"
    }
   ],
   "source": [
    "arr"
   ]
  },
  {
   "cell_type": "code",
   "execution_count": 70,
   "metadata": {
    "ExecuteTime": {
     "end_time": "2020-10-31T12:33:51.326730Z",
     "start_time": "2020-10-31T12:33:51.321744Z"
    }
   },
   "outputs": [
    {
     "data": {
      "text/plain": [
       "array([[ 0,  1,  2],\n",
       "       [ 3,  5,  7],\n",
       "       [ 9, 12, 15]], dtype=int32)"
      ]
     },
     "execution_count": 70,
     "metadata": {},
     "output_type": "execute_result"
    }
   ],
   "source": [
    "arr.cumsum(axis=0) # 二维数组列方向上累加求和"
   ]
  },
  {
   "cell_type": "code",
   "execution_count": 71,
   "metadata": {
    "ExecuteTime": {
     "end_time": "2020-10-31T12:34:05.052633Z",
     "start_time": "2020-10-31T12:34:05.047645Z"
    }
   },
   "outputs": [
    {
     "data": {
      "text/plain": [
       "array([[  0,   0,   0],\n",
       "       [  3,  12,  60],\n",
       "       [  6,  42, 336]], dtype=int32)"
      ]
     },
     "execution_count": 71,
     "metadata": {},
     "output_type": "execute_result"
    }
   ],
   "source": [
    "arr.cumprod(axis=1) # 二维数组行方向上累乘"
   ]
  },
  {
   "cell_type": "markdown",
   "metadata": {},
   "source": [
    "## 用于布尔型数组的方法"
   ]
  },
  {
   "cell_type": "code",
   "execution_count": 78,
   "metadata": {
    "ExecuteTime": {
     "end_time": "2020-10-31T12:38:42.388625Z",
     "start_time": "2020-10-31T12:38:42.383604Z"
    }
   },
   "outputs": [
    {
     "data": {
      "text/plain": [
       "array([ 0.52328838,  1.61628389,  1.06162615,  0.4589437 ,  0.58293017,\n",
       "       -0.74988105,  1.75194823,  0.79942136,  0.44653301,  1.12484841,\n",
       "       -1.32417997,  0.66630506,  0.90317811, -1.10064424, -1.47146875,\n",
       "        0.4912175 , -2.70416064, -0.52355808, -0.81910865,  0.51390936,\n",
       "        0.17025585, -0.18046836,  0.60057488,  0.14291074, -0.47204237,\n",
       "        0.31173764,  0.14342999, -2.11218817,  0.29239591,  0.28215556,\n",
       "        0.33098369,  0.46347502,  0.63641493, -0.25019076, -1.09740257,\n",
       "        0.7139063 ,  1.81216744,  0.53996486, -1.18791519, -0.18705382,\n",
       "       -1.15536019,  1.27082049, -0.5852869 , -0.84093396,  0.99496258,\n",
       "       -1.46630305, -0.44636912, -1.0852908 , -0.60194135,  2.37287345,\n",
       "        0.15414287,  0.34390684,  0.32973852, -0.64414099, -1.06384499,\n",
       "       -0.42743687,  0.59061076, -0.33282472, -0.58393309,  0.97881659,\n",
       "        0.48654804, -0.57668014, -2.21165609, -2.06944223, -1.40364345,\n",
       "        1.99999274, -1.14510519,  0.57068524,  0.41707358,  0.90272437,\n",
       "       -0.01298624,  0.65881252, -0.49030974, -0.0425837 ,  0.10834563,\n",
       "       -1.17353904,  0.25924273,  0.25371841, -1.28353031,  2.01939037,\n",
       "       -0.93378641,  0.7379366 , -1.0261245 , -0.15649858, -2.19548625,\n",
       "        0.4996573 , -1.61583168, -1.12452924,  0.35859535, -0.11084105,\n",
       "        0.30724959,  2.23631318, -0.25597929,  0.97349832,  0.51764557,\n",
       "        1.36269262, -1.89848428,  1.08188817, -0.96796448,  0.01073556])"
      ]
     },
     "execution_count": 78,
     "metadata": {},
     "output_type": "execute_result"
    }
   ],
   "source": [
    "arr=np.random.randn(100)\n",
    "arr"
   ]
  },
  {
   "cell_type": "code",
   "execution_count": 80,
   "metadata": {
    "ExecuteTime": {
     "end_time": "2020-10-31T12:38:48.237625Z",
     "start_time": "2020-10-31T12:38:48.232639Z"
    }
   },
   "outputs": [
    {
     "data": {
      "text/plain": [
       "54"
      ]
     },
     "execution_count": 80,
     "metadata": {},
     "output_type": "execute_result"
    }
   ],
   "source": [
    "(arr>0).sum() # 大于0数字的数目"
   ]
  },
  {
   "cell_type": "markdown",
   "metadata": {},
   "source": [
    "any用于检测数组中是否有True  \n",
    "all用于检测数组中是否都是True"
   ]
  },
  {
   "cell_type": "code",
   "execution_count": 81,
   "metadata": {
    "ExecuteTime": {
     "end_time": "2020-10-31T12:39:14.302931Z",
     "start_time": "2020-10-31T12:39:14.297912Z"
    }
   },
   "outputs": [],
   "source": [
    " bools = np.array([False, False, True, False])"
   ]
  },
  {
   "cell_type": "code",
   "execution_count": 82,
   "metadata": {
    "ExecuteTime": {
     "end_time": "2020-10-31T12:39:20.038604Z",
     "start_time": "2020-10-31T12:39:20.033616Z"
    }
   },
   "outputs": [
    {
     "data": {
      "text/plain": [
       "True"
      ]
     },
     "execution_count": 82,
     "metadata": {},
     "output_type": "execute_result"
    }
   ],
   "source": [
    "bools.any()"
   ]
  },
  {
   "cell_type": "code",
   "execution_count": 83,
   "metadata": {
    "ExecuteTime": {
     "end_time": "2020-10-31T12:39:27.838748Z",
     "start_time": "2020-10-31T12:39:27.833761Z"
    }
   },
   "outputs": [
    {
     "data": {
      "text/plain": [
       "False"
      ]
     },
     "execution_count": 83,
     "metadata": {},
     "output_type": "execute_result"
    }
   ],
   "source": [
    "bools.all()"
   ]
  },
  {
   "cell_type": "markdown",
   "metadata": {},
   "source": [
    "any和all也可以用于非布尔型数组  \n",
    "所有非0数都会被当作True"
   ]
  },
  {
   "cell_type": "code",
   "execution_count": 84,
   "metadata": {
    "ExecuteTime": {
     "end_time": "2020-10-31T12:41:24.638362Z",
     "start_time": "2020-10-31T12:41:24.633339Z"
    }
   },
   "outputs": [
    {
     "data": {
      "text/plain": [
       "array([ 1.058309  ,  0.44510519,  1.1136681 ,  0.14751272,  0.58199764,\n",
       "       -0.15441866, -0.65367872,  0.43168458, -0.24301919,  0.857795  ])"
      ]
     },
     "execution_count": 84,
     "metadata": {},
     "output_type": "execute_result"
    }
   ],
   "source": [
    "arr=np.random.randn(10)\n",
    "arr"
   ]
  },
  {
   "cell_type": "code",
   "execution_count": 85,
   "metadata": {
    "ExecuteTime": {
     "end_time": "2020-10-31T12:41:32.312700Z",
     "start_time": "2020-10-31T12:41:32.306710Z"
    }
   },
   "outputs": [
    {
     "data": {
      "text/plain": [
       "True"
      ]
     },
     "execution_count": 85,
     "metadata": {},
     "output_type": "execute_result"
    }
   ],
   "source": [
    "arr.any()"
   ]
  },
  {
   "cell_type": "code",
   "execution_count": 87,
   "metadata": {
    "ExecuteTime": {
     "end_time": "2020-10-31T12:41:41.871906Z",
     "start_time": "2020-10-31T12:41:41.865922Z"
    }
   },
   "outputs": [
    {
     "data": {
      "text/plain": [
       "True"
      ]
     },
     "execution_count": 87,
     "metadata": {},
     "output_type": "execute_result"
    }
   ],
   "source": [
    "arr.all() # 没有非0数 全为真"
   ]
  },
  {
   "cell_type": "markdown",
   "metadata": {},
   "source": [
    "## 排序"
   ]
  },
  {
   "cell_type": "code",
   "execution_count": 89,
   "metadata": {
    "ExecuteTime": {
     "end_time": "2020-10-31T12:42:39.025941Z",
     "start_time": "2020-10-31T12:42:39.021919Z"
    }
   },
   "outputs": [
    {
     "data": {
      "text/plain": [
       "array([ 1.16356395, -0.3423464 ,  2.31557471,  0.41864039,  0.12881423,\n",
       "       -0.76188326])"
      ]
     },
     "execution_count": 89,
     "metadata": {},
     "output_type": "execute_result"
    }
   ],
   "source": [
    "arr=np.random.randn(6)\n",
    "arr"
   ]
  },
  {
   "cell_type": "code",
   "execution_count": 90,
   "metadata": {
    "ExecuteTime": {
     "end_time": "2020-10-31T12:42:44.466947Z",
     "start_time": "2020-10-31T12:42:44.462958Z"
    }
   },
   "outputs": [],
   "source": [
    "arr.sort()"
   ]
  },
  {
   "cell_type": "code",
   "execution_count": 91,
   "metadata": {
    "ExecuteTime": {
     "end_time": "2020-10-31T12:42:46.148331Z",
     "start_time": "2020-10-31T12:42:46.143312Z"
    }
   },
   "outputs": [
    {
     "data": {
      "text/plain": [
       "array([-0.76188326, -0.3423464 ,  0.12881423,  0.41864039,  1.16356395,\n",
       "        2.31557471])"
      ]
     },
     "execution_count": 91,
     "metadata": {},
     "output_type": "execute_result"
    }
   ],
   "source": [
    "arr"
   ]
  },
  {
   "cell_type": "markdown",
   "metadata": {},
   "source": [
    "当然对于多维数组也可以进行排序  \n",
    "只需将轴编号传给sort即可  \n",
    "0 按列 1 按行"
   ]
  },
  {
   "cell_type": "code",
   "execution_count": 92,
   "metadata": {
    "ExecuteTime": {
     "end_time": "2020-10-31T12:43:17.318314Z",
     "start_time": "2020-10-31T12:43:17.313320Z"
    }
   },
   "outputs": [
    {
     "data": {
      "text/plain": [
       "array([[ 1.31533059, -2.27392529,  0.72561366],\n",
       "       [-1.9989463 ,  0.17468539,  0.99763539],\n",
       "       [-0.77705111,  0.54668989,  2.20224742],\n",
       "       [-0.76624535,  1.45528195,  0.32309735],\n",
       "       [-0.01047544,  0.80840333,  0.02677603]])"
      ]
     },
     "execution_count": 92,
     "metadata": {},
     "output_type": "execute_result"
    }
   ],
   "source": [
    "arr=np.random.randn(5,3)\n",
    "arr"
   ]
  },
  {
   "cell_type": "code",
   "execution_count": 95,
   "metadata": {
    "ExecuteTime": {
     "end_time": "2020-10-31T12:43:44.488061Z",
     "start_time": "2020-10-31T12:43:44.484080Z"
    }
   },
   "outputs": [],
   "source": [
    "arr.sort(1) # 1为按行排序"
   ]
  },
  {
   "cell_type": "code",
   "execution_count": 96,
   "metadata": {
    "ExecuteTime": {
     "end_time": "2020-10-31T12:43:45.512999Z",
     "start_time": "2020-10-31T12:43:45.509005Z"
    }
   },
   "outputs": [
    {
     "data": {
      "text/plain": [
       "array([[-2.27392529,  0.72561366,  1.31533059],\n",
       "       [-1.9989463 ,  0.17468539,  0.99763539],\n",
       "       [-0.77705111,  0.54668989,  2.20224742],\n",
       "       [-0.76624535,  0.32309735,  1.45528195],\n",
       "       [-0.01047544,  0.02677603,  0.80840333]])"
      ]
     },
     "execution_count": 96,
     "metadata": {},
     "output_type": "execute_result"
    }
   ],
   "source": [
    "arr"
   ]
  },
  {
   "cell_type": "code",
   "execution_count": 97,
   "metadata": {
    "ExecuteTime": {
     "end_time": "2020-10-31T12:44:04.985468Z",
     "start_time": "2020-10-31T12:44:04.980478Z"
    }
   },
   "outputs": [
    {
     "data": {
      "text/plain": [
       "array([[-2.27392529,  0.02677603,  0.80840333],\n",
       "       [-1.9989463 ,  0.17468539,  0.99763539],\n",
       "       [-0.77705111,  0.32309735,  1.31533059],\n",
       "       [-0.76624535,  0.54668989,  1.45528195],\n",
       "       [-0.01047544,  0.72561366,  2.20224742]])"
      ]
     },
     "execution_count": 97,
     "metadata": {},
     "output_type": "execute_result"
    }
   ],
   "source": [
    "arr.sort(0) # 0为按列排序\n",
    "arr"
   ]
  },
  {
   "cell_type": "markdown",
   "metadata": {},
   "source": [
    "就地排序会修改数组本身  \n",
    "计算数组分位数的最好办法就是对其本身进行排序  \n",
    "然后选取特性位置的值"
   ]
  },
  {
   "cell_type": "code",
   "execution_count": 98,
   "metadata": {
    "ExecuteTime": {
     "end_time": "2020-10-31T12:46:01.428399Z",
     "start_time": "2020-10-31T12:46:01.424410Z"
    }
   },
   "outputs": [],
   "source": [
    "large_arr=np.random.randn(1000)"
   ]
  },
  {
   "cell_type": "code",
   "execution_count": 99,
   "metadata": {
    "ExecuteTime": {
     "end_time": "2020-10-31T12:46:07.122193Z",
     "start_time": "2020-10-31T12:46:07.118211Z"
    }
   },
   "outputs": [],
   "source": [
    "large_arr.sort()"
   ]
  },
  {
   "cell_type": "code",
   "execution_count": 100,
   "metadata": {
    "ExecuteTime": {
     "end_time": "2020-10-31T12:46:26.435182Z",
     "start_time": "2020-10-31T12:46:26.430203Z"
    }
   },
   "outputs": [
    {
     "data": {
      "text/plain": [
       "-1.6434520673934303"
      ]
     },
     "execution_count": 100,
     "metadata": {},
     "output_type": "execute_result"
    }
   ],
   "source": [
    "large_arr[int(0.05*len(large_arr))] # 计算5%分位数"
   ]
  },
  {
   "cell_type": "markdown",
   "metadata": {},
   "source": [
    "## 唯一化及其他的集合逻辑"
   ]
  },
  {
   "cell_type": "code",
   "execution_count": 108,
   "metadata": {
    "ExecuteTime": {
     "end_time": "2020-10-31T12:52:55.922522Z",
     "start_time": "2020-10-31T12:52:55.918532Z"
    }
   },
   "outputs": [],
   "source": [
    "names = np.array(['Bob', 'Joe', 'Will', 'Bob', 'Will', 'Joe', 'Joe'])"
   ]
  },
  {
   "cell_type": "code",
   "execution_count": 109,
   "metadata": {
    "ExecuteTime": {
     "end_time": "2020-10-31T12:53:08.427180Z",
     "start_time": "2020-10-31T12:53:08.423159Z"
    }
   },
   "outputs": [
    {
     "data": {
      "text/plain": [
       "array(['Bob', 'Joe', 'Will'], dtype='<U4')"
      ]
     },
     "execution_count": 109,
     "metadata": {},
     "output_type": "execute_result"
    }
   ],
   "source": [
    "np.unique(names)"
   ]
  },
  {
   "cell_type": "code",
   "execution_count": 110,
   "metadata": {
    "ExecuteTime": {
     "end_time": "2020-10-31T12:53:28.018122Z",
     "start_time": "2020-10-31T12:53:28.014111Z"
    }
   },
   "outputs": [],
   "source": [
    "ints = np.array([3, 3, 3, 2, 2, 1, 1, 4, 4])"
   ]
  },
  {
   "cell_type": "code",
   "execution_count": 111,
   "metadata": {
    "ExecuteTime": {
     "end_time": "2020-10-31T12:53:34.072291Z",
     "start_time": "2020-10-31T12:53:34.067305Z"
    }
   },
   "outputs": [
    {
     "data": {
      "text/plain": [
       "array([1, 2, 3, 4])"
      ]
     },
     "execution_count": 111,
     "metadata": {},
     "output_type": "execute_result"
    }
   ],
   "source": [
    "np.unique(ints)"
   ]
  },
  {
   "cell_type": "markdown",
   "metadata": {},
   "source": [
    "在python中与之等价的代码为"
   ]
  },
  {
   "cell_type": "code",
   "execution_count": 112,
   "metadata": {
    "ExecuteTime": {
     "end_time": "2020-10-31T12:53:58.450939Z",
     "start_time": "2020-10-31T12:53:58.446472Z"
    }
   },
   "outputs": [
    {
     "data": {
      "text/plain": [
       "['Bob', 'Joe', 'Will']"
      ]
     },
     "execution_count": 112,
     "metadata": {},
     "output_type": "execute_result"
    }
   ],
   "source": [
    "sorted(set(names))"
   ]
  },
  {
   "cell_type": "code",
   "execution_count": 113,
   "metadata": {
    "ExecuteTime": {
     "end_time": "2020-10-31T12:54:44.855674Z",
     "start_time": "2020-10-31T12:54:44.852671Z"
    }
   },
   "outputs": [],
   "source": [
    "values=np.array([6, 0, 0, 3, 2, 5, 6])"
   ]
  },
  {
   "cell_type": "markdown",
   "metadata": {},
   "source": [
    "in1d(x,y) 表示x的元素是否包含在y的布尔型数组"
   ]
  },
  {
   "cell_type": "code",
   "execution_count": 114,
   "metadata": {
    "ExecuteTime": {
     "end_time": "2020-10-31T12:55:12.685996Z",
     "start_time": "2020-10-31T12:55:12.681009Z"
    }
   },
   "outputs": [
    {
     "data": {
      "text/plain": [
       "array([ True, False, False,  True,  True, False,  True])"
      ]
     },
     "execution_count": 114,
     "metadata": {},
     "output_type": "execute_result"
    }
   ],
   "source": [
    "np.in1d(values,[2,3,6]) # 检测values中的元素是否在2,3,6中"
   ]
  },
  {
   "cell_type": "markdown",
   "metadata": {},
   "source": [
    "# 用于数组的文件的输入输出"
   ]
  },
  {
   "cell_type": "code",
   "execution_count": 115,
   "metadata": {
    "ExecuteTime": {
     "end_time": "2020-10-31T12:58:28.914796Z",
     "start_time": "2020-10-31T12:58:28.910834Z"
    }
   },
   "outputs": [],
   "source": [
    "arr=np.arange(10)"
   ]
  },
  {
   "cell_type": "code",
   "execution_count": 117,
   "metadata": {
    "ExecuteTime": {
     "end_time": "2020-10-31T12:59:55.505556Z",
     "start_time": "2020-10-31T12:59:55.501535Z"
    }
   },
   "outputs": [],
   "source": [
    "np.save('some_array',arr) # 保存为二进制文件"
   ]
  },
  {
   "cell_type": "code",
   "execution_count": 118,
   "metadata": {
    "ExecuteTime": {
     "end_time": "2020-10-31T13:00:22.038237Z",
     "start_time": "2020-10-31T13:00:22.031255Z"
    }
   },
   "outputs": [
    {
     "data": {
      "text/plain": [
       "array([0, 1, 2, 3, 4, 5, 6, 7, 8, 9])"
      ]
     },
     "execution_count": 118,
     "metadata": {},
     "output_type": "execute_result"
    }
   ],
   "source": [
    "np.load('some_array.npy')"
   ]
  },
  {
   "cell_type": "markdown",
   "metadata": {},
   "source": [
    "np.savez可以将多个数组保存到一个未压缩的文件中  \n",
    "数组以关键字形式传入"
   ]
  },
  {
   "cell_type": "code",
   "execution_count": 119,
   "metadata": {
    "ExecuteTime": {
     "end_time": "2020-10-31T13:00:52.976898Z",
     "start_time": "2020-10-31T13:00:52.964580Z"
    }
   },
   "outputs": [],
   "source": [
    "np.savez('array_archive.npz',a=arr,b=arr)"
   ]
  },
  {
   "cell_type": "code",
   "execution_count": 120,
   "metadata": {
    "ExecuteTime": {
     "end_time": "2020-10-31T13:02:20.155136Z",
     "start_time": "2020-10-31T13:02:20.147125Z"
    }
   },
   "outputs": [],
   "source": [
    "arch=np.load('array_archive.npz')"
   ]
  },
  {
   "cell_type": "code",
   "execution_count": 121,
   "metadata": {
    "ExecuteTime": {
     "end_time": "2020-10-31T13:02:23.747564Z",
     "start_time": "2020-10-31T13:02:23.741580Z"
    }
   },
   "outputs": [
    {
     "data": {
      "text/plain": [
       "array([0, 1, 2, 3, 4, 5, 6, 7, 8, 9])"
      ]
     },
     "execution_count": 121,
     "metadata": {},
     "output_type": "execute_result"
    }
   ],
   "source": [
    "arch['b'] # 利用关键字读取数组"
   ]
  },
  {
   "cell_type": "code",
   "execution_count": 122,
   "metadata": {
    "ExecuteTime": {
     "end_time": "2020-10-31T13:02:29.345955Z",
     "start_time": "2020-10-31T13:02:29.339972Z"
    }
   },
   "outputs": [
    {
     "data": {
      "text/plain": [
       "array([0, 1, 2, 3, 4, 5, 6, 7, 8, 9])"
      ]
     },
     "execution_count": 122,
     "metadata": {},
     "output_type": "execute_result"
    }
   ],
   "source": [
    "arch['a']"
   ]
  },
  {
   "cell_type": "code",
   "execution_count": 126,
   "metadata": {
    "ExecuteTime": {
     "end_time": "2020-10-31T13:04:27.513498Z",
     "start_time": "2020-10-31T13:04:27.506520Z"
    }
   },
   "outputs": [],
   "source": [
    "np.savez_compressed('arrays_compressed.npz',a=arr,b=arr)"
   ]
  },
  {
   "cell_type": "markdown",
   "metadata": {},
   "source": [
    "# 线性代数"
   ]
  },
  {
   "cell_type": "code",
   "execution_count": 127,
   "metadata": {
    "ExecuteTime": {
     "end_time": "2020-10-31T13:08:30.785998Z",
     "start_time": "2020-10-31T13:08:30.780981Z"
    }
   },
   "outputs": [],
   "source": [
    "x=np.array([[1., 2., 3.], [4., 5., 6.]])\n",
    "y = np.array([[6., 23.], [-1, 7], [8, 9]])"
   ]
  },
  {
   "cell_type": "code",
   "execution_count": 128,
   "metadata": {
    "ExecuteTime": {
     "end_time": "2020-10-31T13:08:32.552236Z",
     "start_time": "2020-10-31T13:08:32.547250Z"
    }
   },
   "outputs": [
    {
     "data": {
      "text/plain": [
       "array([[1., 2., 3.],\n",
       "       [4., 5., 6.]])"
      ]
     },
     "execution_count": 128,
     "metadata": {},
     "output_type": "execute_result"
    }
   ],
   "source": [
    "x"
   ]
  },
  {
   "cell_type": "code",
   "execution_count": 129,
   "metadata": {
    "ExecuteTime": {
     "end_time": "2020-10-31T13:08:33.705354Z",
     "start_time": "2020-10-31T13:08:33.701341Z"
    }
   },
   "outputs": [
    {
     "data": {
      "text/plain": [
       "array([[ 6., 23.],\n",
       "       [-1.,  7.],\n",
       "       [ 8.,  9.]])"
      ]
     },
     "execution_count": 129,
     "metadata": {},
     "output_type": "execute_result"
    }
   ],
   "source": [
    "y"
   ]
  },
  {
   "cell_type": "markdown",
   "metadata": {},
   "source": [
    "两矩阵的点积"
   ]
  },
  {
   "cell_type": "code",
   "execution_count": 130,
   "metadata": {
    "ExecuteTime": {
     "end_time": "2020-10-31T13:08:38.280273Z",
     "start_time": "2020-10-31T13:08:38.275254Z"
    }
   },
   "outputs": [
    {
     "data": {
      "text/plain": [
       "array([[ 28.,  64.],\n",
       "       [ 67., 181.]])"
      ]
     },
     "execution_count": 130,
     "metadata": {},
     "output_type": "execute_result"
    }
   ],
   "source": [
    "x.dot(y)"
   ]
  },
  {
   "cell_type": "code",
   "execution_count": 131,
   "metadata": {
    "ExecuteTime": {
     "end_time": "2020-10-31T13:09:12.821620Z",
     "start_time": "2020-10-31T13:09:12.815638Z"
    }
   },
   "outputs": [
    {
     "data": {
      "text/plain": [
       "array([[ 28.,  64.],\n",
       "       [ 67., 181.]])"
      ]
     },
     "execution_count": 131,
     "metadata": {},
     "output_type": "execute_result"
    }
   ],
   "source": [
    "np.dot(x,y)"
   ]
  },
  {
   "cell_type": "markdown",
   "metadata": {},
   "source": [
    "二维数组与大小合适的一维数组的点积为一个一维数组"
   ]
  },
  {
   "cell_type": "code",
   "execution_count": 132,
   "metadata": {
    "ExecuteTime": {
     "end_time": "2020-10-31T13:10:17.924095Z",
     "start_time": "2020-10-31T13:10:17.919087Z"
    }
   },
   "outputs": [
    {
     "data": {
      "text/plain": [
       "array([ 6., 15.])"
      ]
     },
     "execution_count": 132,
     "metadata": {},
     "output_type": "execute_result"
    }
   ],
   "source": [
    "np.dot(x,np.ones(3))"
   ]
  },
  {
   "cell_type": "markdown",
   "metadata": {},
   "source": [
    "@符号也可以用于矩阵乘法 作为中缀运算符"
   ]
  },
  {
   "cell_type": "code",
   "execution_count": 133,
   "metadata": {
    "ExecuteTime": {
     "end_time": "2020-10-31T13:11:13.702781Z",
     "start_time": "2020-10-31T13:11:13.698759Z"
    }
   },
   "outputs": [
    {
     "data": {
      "text/plain": [
       "array([ 6., 15.])"
      ]
     },
     "execution_count": 133,
     "metadata": {},
     "output_type": "execute_result"
    }
   ],
   "source": [
    "x@np.ones(3)"
   ]
  },
  {
   "cell_type": "code",
   "execution_count": 134,
   "metadata": {
    "ExecuteTime": {
     "end_time": "2020-10-31T13:12:31.928336Z",
     "start_time": "2020-10-31T13:12:31.924347Z"
    }
   },
   "outputs": [],
   "source": [
    "from numpy.linalg import inv,qr"
   ]
  },
  {
   "cell_type": "code",
   "execution_count": 145,
   "metadata": {
    "ExecuteTime": {
     "end_time": "2020-10-31T13:19:52.547196Z",
     "start_time": "2020-10-31T13:19:52.544205Z"
    }
   },
   "outputs": [],
   "source": [
    "x=np.random.randn(5,5)"
   ]
  },
  {
   "cell_type": "code",
   "execution_count": 146,
   "metadata": {
    "ExecuteTime": {
     "end_time": "2020-10-31T13:19:52.920513Z",
     "start_time": "2020-10-31T13:19:52.916524Z"
    }
   },
   "outputs": [],
   "source": [
    "mat=x.T.dot(x) # x和它转置x.T的点积"
   ]
  },
  {
   "cell_type": "code",
   "execution_count": 147,
   "metadata": {
    "ExecuteTime": {
     "end_time": "2020-10-31T13:19:53.344170Z",
     "start_time": "2020-10-31T13:19:53.337191Z"
    }
   },
   "outputs": [
    {
     "data": {
      "text/plain": [
       "array([[ 2.19870221,  1.65029424,  0.80601071, -9.19275651, -5.18053143],\n",
       "       [ 1.65029424,  1.87832531,  0.93731079, -8.80884484, -4.75360884],\n",
       "       [ 0.80601071,  0.93731079,  0.76034105, -4.87569341, -2.80200473],\n",
       "       [-9.19275651, -8.80884484, -4.87569341, 46.44464998, 25.84358151],\n",
       "       [-5.18053143, -4.75360884, -2.80200473, 25.84358151, 14.9314579 ]])"
      ]
     },
     "execution_count": 147,
     "metadata": {},
     "output_type": "execute_result"
    }
   ],
   "source": [
    "inv(mat) # 矩阵的逆"
   ]
  },
  {
   "cell_type": "code",
   "execution_count": 148,
   "metadata": {
    "ExecuteTime": {
     "end_time": "2020-10-31T13:19:53.894775Z",
     "start_time": "2020-10-31T13:19:53.889758Z"
    }
   },
   "outputs": [
    {
     "data": {
      "text/plain": [
       "array([[ 1.00000000e+00,  2.71725248e-16,  3.42898729e-16,\n",
       "         3.45886820e-16, -6.71511488e-16],\n",
       "       [-2.55704371e-15,  1.00000000e+00,  2.17792984e-16,\n",
       "         5.10787091e-15, -6.87753855e-15],\n",
       "       [ 2.95937169e-16, -1.43422509e-16,  1.00000000e+00,\n",
       "         5.29082501e-16,  1.86325171e-15],\n",
       "       [-1.39147230e-15, -1.06034028e-15, -9.34934275e-17,\n",
       "         1.00000000e+00, -1.22181683e-16],\n",
       "       [ 2.35306559e-15,  2.33770693e-15,  2.85745264e-16,\n",
       "        -4.70861698e-15,  1.00000000e+00]])"
      ]
     },
     "execution_count": 148,
     "metadata": {},
     "output_type": "execute_result"
    }
   ],
   "source": [
    "mat.dot(inv(mat)) # A*A-1=E(单位矩阵)"
   ]
  },
  {
   "cell_type": "code",
   "execution_count": 140,
   "metadata": {
    "ExecuteTime": {
     "end_time": "2020-10-31T13:15:55.904657Z",
     "start_time": "2020-10-31T13:15:55.892684Z"
    }
   },
   "outputs": [],
   "source": [
    "q,r=qr(mat) # 计算QR分解,分解为一个正交矩阵和一个上三角矩阵的乘积"
   ]
  },
  {
   "cell_type": "code",
   "execution_count": 141,
   "metadata": {
    "ExecuteTime": {
     "end_time": "2020-10-31T13:15:56.755043Z",
     "start_time": "2020-10-31T13:15:56.750064Z"
    },
    "scrolled": true
   },
   "outputs": [
    {
     "data": {
      "text/plain": [
       "array([[-7.3565224 , -1.30273122, -0.56097399, -1.56963818,  1.72558856],\n",
       "       [ 0.        , -4.05342331,  4.36061916, -2.52096045, -2.93467773],\n",
       "       [ 0.        ,  0.        , -0.22141946, -1.59125297, -0.4832577 ],\n",
       "       [ 0.        ,  0.        ,  0.        , -5.821091  , -3.74999469],\n",
       "       [ 0.        ,  0.        ,  0.        ,  0.        ,  0.3007741 ]])"
      ]
     },
     "execution_count": 141,
     "metadata": {},
     "output_type": "execute_result"
    }
   ],
   "source": [
    "r"
   ]
  },
  {
   "cell_type": "code",
   "execution_count": 142,
   "metadata": {
    "ExecuteTime": {
     "end_time": "2020-10-31T13:16:09.458222Z",
     "start_time": "2020-10-31T13:16:09.454264Z"
    }
   },
   "outputs": [
    {
     "data": {
      "text/plain": [
       "array([[-0.94500059,  0.01848713,  0.31359015, -0.05194774,  0.07479816],\n",
       "       [-0.15715926, -0.65862669, -0.4885611 ,  0.31994411,  0.44772276],\n",
       "       [-0.07358111,  0.68375227, -0.41681361, -0.08777526,  0.58790355],\n",
       "       [-0.16857081, -0.14862822, -0.53985408, -0.73610254, -0.34088731],\n",
       "       [ 0.22010124, -0.27615503,  0.44473954, -0.58769529,  0.57629404]])"
      ]
     },
     "execution_count": 142,
     "metadata": {},
     "output_type": "execute_result"
    }
   ],
   "source": [
    "q"
   ]
  },
  {
   "cell_type": "markdown",
   "metadata": {},
   "source": [
    "# 伪随机数生成"
   ]
  },
  {
   "cell_type": "markdown",
   "metadata": {},
   "source": [
    "生成一个标准正态分布4x4样本数组"
   ]
  },
  {
   "cell_type": "code",
   "execution_count": 150,
   "metadata": {
    "ExecuteTime": {
     "end_time": "2020-10-31T13:24:36.010461Z",
     "start_time": "2020-10-31T13:24:36.006472Z"
    }
   },
   "outputs": [],
   "source": [
    "samples=np.random.normal(size=(4,4))"
   ]
  },
  {
   "cell_type": "code",
   "execution_count": 151,
   "metadata": {
    "ExecuteTime": {
     "end_time": "2020-10-31T13:24:41.105127Z",
     "start_time": "2020-10-31T13:24:41.100108Z"
    }
   },
   "outputs": [
    {
     "data": {
      "text/plain": [
       "array([[-0.67442458, -0.34109168,  0.28025386,  0.77207726],\n",
       "       [-0.24775261,  1.49138531, -0.73558652,  1.11758169],\n",
       "       [-0.18825473, -1.55065804,  0.39564927, -0.94819177],\n",
       "       [ 1.04032099,  0.62018928, -0.04859182, -0.50554432]])"
      ]
     },
     "execution_count": 151,
     "metadata": {},
     "output_type": "execute_result"
    }
   ],
   "source": [
    "samples"
   ]
  },
  {
   "cell_type": "markdown",
   "metadata": {},
   "source": [
    "numpy.random比python内置的random模块速度快得多"
   ]
  },
  {
   "cell_type": "code",
   "execution_count": 152,
   "metadata": {
    "ExecuteTime": {
     "end_time": "2020-10-31T13:25:38.466425Z",
     "start_time": "2020-10-31T13:25:38.463684Z"
    }
   },
   "outputs": [],
   "source": [
    "from random import normalvariate"
   ]
  },
  {
   "cell_type": "code",
   "execution_count": 153,
   "metadata": {
    "ExecuteTime": {
     "end_time": "2020-10-31T13:25:45.765896Z",
     "start_time": "2020-10-31T13:25:45.762904Z"
    }
   },
   "outputs": [],
   "source": [
    "N=1000000"
   ]
  },
  {
   "cell_type": "code",
   "execution_count": 154,
   "metadata": {
    "ExecuteTime": {
     "end_time": "2020-10-31T13:26:28.407893Z",
     "start_time": "2020-10-31T13:26:21.673324Z"
    }
   },
   "outputs": [
    {
     "name": "stdout",
     "output_type": "stream",
     "text": [
      "827 ms ± 24.8 ms per loop (mean ± std. dev. of 7 runs, 1 loop each)\n"
     ]
    }
   ],
   "source": [
    "%timeit samples = [normalvariate(0,1) for _ in range(N)]"
   ]
  },
  {
   "cell_type": "code",
   "execution_count": 155,
   "metadata": {
    "ExecuteTime": {
     "end_time": "2020-10-31T13:27:10.929710Z",
     "start_time": "2020-10-31T13:27:08.784672Z"
    }
   },
   "outputs": [
    {
     "name": "stdout",
     "output_type": "stream",
     "text": [
      "26.2 ms ± 1.22 ms per loop (mean ± std. dev. of 7 runs, 10 loops each)\n"
     ]
    }
   ],
   "source": [
    "%timeit np.random.normal(size=N)"
   ]
  },
  {
   "cell_type": "code",
   "execution_count": 156,
   "metadata": {
    "ExecuteTime": {
     "end_time": "2020-10-31T13:28:39.165238Z",
     "start_time": "2020-10-31T13:28:39.162278Z"
    }
   },
   "outputs": [],
   "source": [
    "np.random.seed(1234)"
   ]
  },
  {
   "cell_type": "markdown",
   "metadata": {},
   "source": [
    "numpy.random的数据生成函数使用了全局的随机种子。要避免全局状态，你可以使用numpy.random.RandomState，创建一个与其它隔离的随机数生成器"
   ]
  },
  {
   "cell_type": "code",
   "execution_count": 157,
   "metadata": {
    "ExecuteTime": {
     "end_time": "2020-10-31T13:28:54.659769Z",
     "start_time": "2020-10-31T13:28:54.656687Z"
    }
   },
   "outputs": [],
   "source": [
    "rng=np.random.RandomState(1234)"
   ]
  },
  {
   "cell_type": "code",
   "execution_count": 158,
   "metadata": {
    "ExecuteTime": {
     "end_time": "2020-10-31T13:29:04.344820Z",
     "start_time": "2020-10-31T13:29:04.339834Z"
    }
   },
   "outputs": [
    {
     "data": {
      "text/plain": [
       "array([ 0.47143516, -1.19097569,  1.43270697, -0.3126519 , -0.72058873,\n",
       "        0.88716294,  0.85958841, -0.6365235 ,  0.01569637, -2.24268495])"
      ]
     },
     "execution_count": 158,
     "metadata": {},
     "output_type": "execute_result"
    }
   ],
   "source": [
    "rng.randn(10)"
   ]
  },
  {
   "cell_type": "markdown",
   "metadata": {},
   "source": [
    "# 随机漫步"
   ]
  },
  {
   "cell_type": "markdown",
   "metadata": {},
   "source": [
    "纯python形式实现随机漫步"
   ]
  },
  {
   "cell_type": "code",
   "execution_count": 7,
   "metadata": {
    "ExecuteTime": {
     "end_time": "2020-11-02T06:49:07.858421Z",
     "start_time": "2020-11-02T06:49:07.855479Z"
    }
   },
   "outputs": [],
   "source": [
    "import random\n",
    "import matplotlib.pyplot as plt"
   ]
  },
  {
   "cell_type": "code",
   "execution_count": 31,
   "metadata": {
    "ExecuteTime": {
     "end_time": "2020-11-02T07:04:29.683594Z",
     "start_time": "2020-11-02T07:04:29.676652Z"
    }
   },
   "outputs": [],
   "source": [
    "position = 0\n",
    "walk = [position] # 申请walk list初始值为0\n",
    "steps = 1000\n",
    "for i in range(steps):\n",
    "    step=1 if random.randint(0,1) else -1\n",
    "    position+=step\n",
    "    walk.append(position)"
   ]
  },
  {
   "cell_type": "code",
   "execution_count": 32,
   "metadata": {
    "ExecuteTime": {
     "end_time": "2020-11-02T07:04:30.487152Z",
     "start_time": "2020-11-02T07:04:30.341707Z"
    },
    "scrolled": true
   },
   "outputs": [
    {
     "data": {
      "text/plain": [
       "[<matplotlib.lines.Line2D at 0x10aeec73c40>]"
      ]
     },
     "execution_count": 32,
     "metadata": {},
     "output_type": "execute_result"
    },
    {
     "data": {
      "image/png": "[encoded data removed]",
      "text/plain": [
       "<Figure size 432x288 with 1 Axes>"
      ]
     },
     "metadata": {
      "needs_background": "light"
     },
     "output_type": "display_data"
    }
   ],
   "source": [
    "plt.plot(walk[:100])"
   ]
  },
  {
   "cell_type": "code",
   "execution_count": 36,
   "metadata": {
    "ExecuteTime": {
     "end_time": "2020-11-02T07:10:38.970881Z",
     "start_time": "2020-11-02T07:10:38.963909Z"
    }
   },
   "outputs": [
    {
     "data": {
      "text/plain": [
       "[2, 0, 2, 0, 2, 1, 2, 0, 2, 2]"
      ]
     },
     "execution_count": 36,
     "metadata": {},
     "output_type": "execute_result"
    }
   ],
   "source": [
    "arr_int=[]\n",
    "for i in range(10):\n",
    "    arr_int.append(random.randint(0,2))\n",
    "\n",
    "arr_int"
   ]
  },
  {
   "cell_type": "code",
   "execution_count": 23,
   "metadata": {
    "ExecuteTime": {
     "end_time": "2020-11-02T06:56:52.010386Z",
     "start_time": "2020-11-02T06:56:52.005957Z"
    }
   },
   "outputs": [],
   "source": [
    "nsteps=1000\n",
    "draws=np.random.randint(0,2,size=nsteps)"
   ]
  },
  {
   "cell_type": "code",
   "execution_count": 24,
   "metadata": {
    "ExecuteTime": {
     "end_time": "2020-11-02T06:57:40.388995Z",
     "start_time": "2020-11-02T06:57:40.385196Z"
    }
   },
   "outputs": [],
   "source": [
    "steps=np.where(draws>0,1,-1)"
   ]
  },
  {
   "cell_type": "code",
   "execution_count": 26,
   "metadata": {
    "ExecuteTime": {
     "end_time": "2020-11-02T06:58:12.830489Z",
     "start_time": "2020-11-02T06:58:12.827052Z"
    }
   },
   "outputs": [],
   "source": [
    "walk=steps.cumsum()"
   ]
  },
  {
   "cell_type": "code",
   "execution_count": 28,
   "metadata": {
    "ExecuteTime": {
     "end_time": "2020-11-02T06:58:37.922368Z",
     "start_time": "2020-11-02T06:58:37.916293Z"
    }
   },
   "outputs": [
    {
     "data": {
      "text/plain": [
       "40"
      ]
     },
     "execution_count": 28,
     "metadata": {},
     "output_type": "execute_result"
    }
   ],
   "source": [
    "walk.max()"
   ]
  },
  {
   "cell_type": "code",
   "execution_count": 29,
   "metadata": {
    "ExecuteTime": {
     "end_time": "2020-11-02T06:58:43.232161Z",
     "start_time": "2020-11-02T06:58:43.225749Z"
    }
   },
   "outputs": [
    {
     "data": {
      "text/plain": [
       "-8"
      ]
     },
     "execution_count": 29,
     "metadata": {},
     "output_type": "execute_result"
    }
   ],
   "source": [
    "walk.min()"
   ]
  },
  {
   "cell_type": "code",
   "execution_count": 30,
   "metadata": {
    "ExecuteTime": {
     "end_time": "2020-11-02T06:59:10.651730Z",
     "start_time": "2020-11-02T06:59:10.531639Z"
    }
   },
   "outputs": [
    {
     "data": {
      "text/plain": [
       "[<matplotlib.lines.Line2D at 0x10aee9baf40>]"
      ]
     },
     "execution_count": 30,
     "metadata": {},
     "output_type": "execute_result"
    },
    {
     "data": {
      "image/png": "[encoded data removed]",
      "text/plain": [
       "<Figure size 432x288 with 1 Axes>"
      ]
     },
     "metadata": {
      "needs_background": "light"
     },
     "output_type": "display_data"
    }
   ],
   "source": [
    "plt.plot(walk)"
   ]
  },
  {
   "cell_type": "markdown",
   "metadata": {},
   "source": [
    "argmax返回数组第一个最大值的索引  \n",
    "事实上通常情况下argmax并不高效,他要扫描完整个数组  \n",
    "但在布尔数组中只要出现第一个True就是第一个最大值的位置"
   ]
  },
  {
   "cell_type": "code",
   "execution_count": 34,
   "metadata": {
    "ExecuteTime": {
     "end_time": "2020-11-02T07:08:19.692616Z",
     "start_time": "2020-11-02T07:08:19.686200Z"
    }
   },
   "outputs": [
    {
     "data": {
      "text/plain": [
       "116"
      ]
     },
     "execution_count": 34,
     "metadata": {},
     "output_type": "execute_result"
    }
   ],
   "source": [
    "(np.abs(walk)>=10).argmax()"
   ]
  },
  {
   "cell_type": "markdown",
   "metadata": {},
   "source": [
    "## 一次模拟多个随机漫步"
   ]
  },
  {
   "cell_type": "code",
   "execution_count": 35,
   "metadata": {
    "ExecuteTime": {
     "end_time": "2020-11-02T07:09:48.835854Z",
     "start_time": "2020-11-02T07:09:48.831919Z"
    }
   },
   "outputs": [],
   "source": [
    "nwalks=5000\n",
    "nsteps=1000"
   ]
  },
  {
   "cell_type": "code",
   "execution_count": 37,
   "metadata": {
    "ExecuteTime": {
     "end_time": "2020-11-02T07:11:52.344794Z",
     "start_time": "2020-11-02T07:11:52.305601Z"
    }
   },
   "outputs": [],
   "source": [
    "draws=np.random.randint(0,2,size=(nwalks,nsteps))"
   ]
  },
  {
   "cell_type": "code",
   "execution_count": 38,
   "metadata": {
    "ExecuteTime": {
     "end_time": "2020-11-02T07:12:15.226562Z",
     "start_time": "2020-11-02T07:12:15.200242Z"
    }
   },
   "outputs": [],
   "source": [
    "steps=np.where(draws>0,1,-1)"
   ]
  },
  {
   "cell_type": "code",
   "execution_count": 39,
   "metadata": {
    "ExecuteTime": {
     "end_time": "2020-11-02T07:12:40.401355Z",
     "start_time": "2020-11-02T07:12:40.375563Z"
    }
   },
   "outputs": [],
   "source": [
    "walks=steps.cumsum(1) # 行方向求累加和"
   ]
  },
  {
   "cell_type": "code",
   "execution_count": 42,
   "metadata": {
    "ExecuteTime": {
     "end_time": "2020-11-02T07:14:26.759410Z",
     "start_time": "2020-11-02T07:14:26.753493Z"
    }
   },
   "outputs": [
    {
     "data": {
      "text/plain": [
       "array([[  1,   2,   1, ...,   6,   7,   8],\n",
       "       [  1,   2,   1, ...,  30,  29,  28],\n",
       "       [  1,   2,   3, ..., -58, -57, -58],\n",
       "       ...,\n",
       "       [ -1,  -2,  -3, ..., -72, -73, -74],\n",
       "       [ -1,  -2,  -3, ..., -10, -11, -12],\n",
       "       [  1,   0,   1, ...,  -8,  -7,  -8]], dtype=int32)"
      ]
     },
     "execution_count": 42,
     "metadata": {},
     "output_type": "execute_result"
    }
   ],
   "source": [
    "walks"
   ]
  },
  {
   "cell_type": "code",
   "execution_count": 43,
   "metadata": {
    "ExecuteTime": {
     "end_time": "2020-11-02T07:14:44.040759Z",
     "start_time": "2020-11-02T07:14:44.030839Z"
    }
   },
   "outputs": [
    {
     "data": {
      "text/plain": [
       "113"
      ]
     },
     "execution_count": 43,
     "metadata": {},
     "output_type": "execute_result"
    }
   ],
   "source": [
    "walks.max()"
   ]
  },
  {
   "cell_type": "code",
   "execution_count": 44,
   "metadata": {
    "ExecuteTime": {
     "end_time": "2020-11-02T07:14:48.745270Z",
     "start_time": "2020-11-02T07:14:48.735324Z"
    }
   },
   "outputs": [
    {
     "data": {
      "text/plain": [
       "-118"
      ]
     },
     "execution_count": 44,
     "metadata": {},
     "output_type": "execute_result"
    }
   ],
   "source": [
    "walks.min()"
   ]
  },
  {
   "cell_type": "markdown",
   "metadata": {},
   "source": [
    "any()将一个序列转换为布尔型序列"
   ]
  },
  {
   "cell_type": "code",
   "execution_count": 45,
   "metadata": {
    "ExecuteTime": {
     "end_time": "2020-11-02T07:19:09.517343Z",
     "start_time": "2020-11-02T07:19:09.489487Z"
    }
   },
   "outputs": [],
   "source": [
    "hits30=(np.abs(walks)>=30).any(1)"
   ]
  },
  {
   "cell_type": "code",
   "execution_count": 46,
   "metadata": {
    "ExecuteTime": {
     "end_time": "2020-11-02T07:19:14.529131Z",
     "start_time": "2020-11-02T07:19:14.523716Z"
    }
   },
   "outputs": [
    {
     "data": {
      "text/plain": [
       "array([False,  True,  True, ...,  True, False, False])"
      ]
     },
     "execution_count": 46,
     "metadata": {},
     "output_type": "execute_result"
    }
   ],
   "source": [
    "hits30"
   ]
  },
  {
   "cell_type": "code",
   "execution_count": 47,
   "metadata": {
    "ExecuteTime": {
     "end_time": "2020-11-02T07:20:44.466882Z",
     "start_time": "2020-11-02T07:20:44.460854Z"
    }
   },
   "outputs": [
    {
     "data": {
      "text/plain": [
       "3365"
      ]
     },
     "execution_count": 47,
     "metadata": {},
     "output_type": "execute_result"
    }
   ],
   "source": [
    "hits30.sum() # 到达30或-30的个数"
   ]
  },
  {
   "cell_type": "markdown",
   "metadata": {},
   "source": [
    "穿越时间=第一次到达30或-30的下标"
   ]
  },
  {
   "cell_type": "code",
   "execution_count": 48,
   "metadata": {
    "ExecuteTime": {
     "end_time": "2020-11-02T07:25:43.787939Z",
     "start_time": "2020-11-02T07:25:43.760165Z"
    }
   },
   "outputs": [],
   "source": [
    "crossing_times=(np.abs(walks[hits30])>=30).argmax(1)"
   ]
  },
  {
   "cell_type": "code",
   "execution_count": 49,
   "metadata": {
    "ExecuteTime": {
     "end_time": "2020-11-02T07:25:55.035070Z",
     "start_time": "2020-11-02T07:25:55.029614Z"
    }
   },
   "outputs": [
    {
     "data": {
      "text/plain": [
       "498.5625557206538"
      ]
     },
     "execution_count": 49,
     "metadata": {},
     "output_type": "execute_result"
    }
   ],
   "source": [
    "crossing_times.mean()"
   ]
  },
  {
   "cell_type": "markdown",
   "metadata": {},
   "source": [
    "利用正态分布生成漫步数据"
   ]
  },
  {
   "cell_type": "code",
   "execution_count": 81,
   "metadata": {
    "ExecuteTime": {
     "end_time": "2020-11-02T07:42:09.405720Z",
     "start_time": "2020-11-02T07:42:09.147181Z"
    }
   },
   "outputs": [],
   "source": [
    "steps=np.random.normal(loc=0,scale=0.25,size=(nwalks,nsteps))"
   ]
  },
  {
   "cell_type": "code",
   "execution_count": 82,
   "metadata": {
    "ExecuteTime": {
     "end_time": "2020-11-02T07:42:09.687314Z",
     "start_time": "2020-11-02T07:42:09.681865Z"
    },
    "scrolled": true
   },
   "outputs": [
    {
     "data": {
      "text/plain": [
       "array([[-0.15751105,  0.27392977,  0.01361626, ..., -0.13907296,\n",
       "         0.20335734,  0.17402043],\n",
       "       [-0.16159844, -0.01076752, -0.03794927, ..., -0.21114799,\n",
       "         0.38208458, -0.0133914 ],\n",
       "       [-0.23776528, -0.15334532, -0.01544395, ...,  0.10110303,\n",
       "         0.10165825, -0.01310839],\n",
       "       ...,\n",
       "       [ 0.11564532, -0.2722125 , -0.09810596, ...,  0.05715131,\n",
       "        -0.17476101, -0.27898423],\n",
       "       [ 0.57068162,  0.18824196, -0.11797757, ..., -0.04315055,\n",
       "        -0.02924978, -0.1896612 ],\n",
       "       [ 0.23190594, -0.18698875, -0.2622474 , ..., -0.0636114 ,\n",
       "         0.37755828,  0.15250836]])"
      ]
     },
     "execution_count": 82,
     "metadata": {},
     "output_type": "execute_result"
    }
   ],
   "source": [
    "steps"
   ]
  },
  {
   "cell_type": "code",
   "execution_count": 65,
   "metadata": {
    "ExecuteTime": {
     "end_time": "2020-11-02T07:38:05.655731Z",
     "start_time": "2020-11-02T07:38:05.647332Z"
    }
   },
   "outputs": [
    {
     "data": {
      "text/plain": [
       "-1.29391030512682"
      ]
     },
     "execution_count": 65,
     "metadata": {},
     "output_type": "execute_result"
    }
   ],
   "source": [
    "steps.min()"
   ]
  },
  {
   "cell_type": "code",
   "execution_count": 66,
   "metadata": {
    "ExecuteTime": {
     "end_time": "2020-11-02T07:38:06.227558Z",
     "start_time": "2020-11-02T07:38:06.220152Z"
    }
   },
   "outputs": [
    {
     "data": {
      "text/plain": [
       "1.3470723432194942"
      ]
     },
     "execution_count": 66,
     "metadata": {},
     "output_type": "execute_result"
    }
   ],
   "source": [
    "steps.max()"
   ]
  },
  {
   "cell_type": "code",
   "execution_count": 83,
   "metadata": {
    "ExecuteTime": {
     "end_time": "2020-11-02T07:42:15.240008Z",
     "start_time": "2020-11-02T07:42:15.214682Z"
    }
   },
   "outputs": [],
   "source": [
    "steps=np.where(steps>0,1,-1)"
   ]
  },
  {
   "cell_type": "code",
   "execution_count": 84,
   "metadata": {
    "ExecuteTime": {
     "end_time": "2020-11-02T07:42:20.069269Z",
     "start_time": "2020-11-02T07:42:20.063348Z"
    }
   },
   "outputs": [
    {
     "data": {
      "text/plain": [
       "array([[-1,  1,  1, ..., -1,  1,  1],\n",
       "       [-1, -1, -1, ..., -1,  1, -1],\n",
       "       [-1, -1, -1, ...,  1,  1, -1],\n",
       "       ...,\n",
       "       [ 1, -1, -1, ...,  1, -1, -1],\n",
       "       [ 1,  1, -1, ..., -1, -1, -1],\n",
       "       [ 1, -1, -1, ..., -1,  1,  1]])"
      ]
     },
     "execution_count": 84,
     "metadata": {},
     "output_type": "execute_result"
    }
   ],
   "source": [
    "steps"
   ]
  },
  {
   "cell_type": "code",
   "execution_count": 85,
   "metadata": {
    "ExecuteTime": {
     "end_time": "2020-11-02T07:42:30.175064Z",
     "start_time": "2020-11-02T07:42:30.156712Z"
    }
   },
   "outputs": [],
   "source": [
    "walks=steps.cumsum(1)"
   ]
  },
  {
   "cell_type": "code",
   "execution_count": 88,
   "metadata": {
    "ExecuteTime": {
     "end_time": "2020-11-02T07:42:49.115819Z",
     "start_time": "2020-11-02T07:42:49.110144Z"
    }
   },
   "outputs": [
    {
     "data": {
      "text/plain": [
       "array([[ -1,   0,   1, ..., -38, -37, -36],\n",
       "       [ -1,  -2,  -3, ...,  12,  13,  12],\n",
       "       [ -1,  -2,  -3, ...,   6,   7,   6],\n",
       "       ...,\n",
       "       [  1,   0,  -1, ...,  -8,  -9, -10],\n",
       "       [  1,   2,   1, ...,  26,  25,  24],\n",
       "       [  1,   0,  -1, ..., -42, -41, -40]], dtype=int32)"
      ]
     },
     "execution_count": 88,
     "metadata": {},
     "output_type": "execute_result"
    }
   ],
   "source": [
    "walks"
   ]
  },
  {
   "cell_type": "code",
   "execution_count": 86,
   "metadata": {
    "ExecuteTime": {
     "end_time": "2020-11-02T07:42:30.674209Z",
     "start_time": "2020-11-02T07:42:30.665282Z"
    }
   },
   "outputs": [
    {
     "data": {
      "text/plain": [
       "-110"
      ]
     },
     "execution_count": 86,
     "metadata": {},
     "output_type": "execute_result"
    }
   ],
   "source": [
    "walks.min()"
   ]
  },
  {
   "cell_type": "code",
   "execution_count": 87,
   "metadata": {
    "ExecuteTime": {
     "end_time": "2020-11-02T07:42:31.505820Z",
     "start_time": "2020-11-02T07:42:31.496785Z"
    }
   },
   "outputs": [
    {
     "data": {
      "text/plain": [
       "104"
      ]
     },
     "execution_count": 87,
     "metadata": {},
     "output_type": "execute_result"
    }
   ],
   "source": [
    "walks.max()"
   ]
  },
  {
   "cell_type": "code",
   "execution_count": 89,
   "metadata": {
    "ExecuteTime": {
     "end_time": "2020-11-02T07:42:58.883486Z",
     "start_time": "2020-11-02T07:42:58.856671Z"
    }
   },
   "outputs": [],
   "source": [
    "hits30=(np.abs(walks)>=30).any(1)"
   ]
  },
  {
   "cell_type": "code",
   "execution_count": 90,
   "metadata": {
    "ExecuteTime": {
     "end_time": "2020-11-02T07:42:59.754778Z",
     "start_time": "2020-11-02T07:42:59.750810Z"
    }
   },
   "outputs": [
    {
     "data": {
      "text/plain": [
       "array([ True, False, False, ...,  True,  True,  True])"
      ]
     },
     "execution_count": 90,
     "metadata": {},
     "output_type": "execute_result"
    }
   ],
   "source": [
    "hits30"
   ]
  },
  {
   "cell_type": "code",
   "execution_count": 92,
   "metadata": {
    "ExecuteTime": {
     "end_time": "2020-11-02T07:43:18.957408Z",
     "start_time": "2020-11-02T07:43:18.951986Z"
    }
   },
   "outputs": [
    {
     "data": {
      "text/plain": [
       "3379"
      ]
     },
     "execution_count": 92,
     "metadata": {},
     "output_type": "execute_result"
    }
   ],
   "source": [
    "hits30.sum()"
   ]
  },
  {
   "cell_type": "code",
   "execution_count": 93,
   "metadata": {
    "ExecuteTime": {
     "end_time": "2020-11-02T07:43:47.316528Z",
     "start_time": "2020-11-02T07:43:47.281781Z"
    }
   },
   "outputs": [],
   "source": [
    "crossing_times=(np.abs(walks[hits30])>=30).argmax(1)"
   ]
  },
  {
   "cell_type": "code",
   "execution_count": 95,
   "metadata": {
    "ExecuteTime": {
     "end_time": "2020-11-02T07:44:22.549871Z",
     "start_time": "2020-11-02T07:44:22.544411Z"
    }
   },
   "outputs": [
    {
     "data": {
      "text/plain": [
       "array([949, 485, 363, ..., 209, 481, 655], dtype=int64)"
      ]
     },
     "execution_count": 95,
     "metadata": {},
     "output_type": "execute_result"
    }
   ],
   "source": [
    "crossing_times"
   ]
  },
  {
   "cell_type": "code",
   "execution_count": 94,
   "metadata": {
    "ExecuteTime": {
     "end_time": "2020-11-02T07:43:53.073703Z",
     "start_time": "2020-11-02T07:43:53.067772Z"
    }
   },
   "outputs": [
    {
     "data": {
      "text/plain": [
       "495.25096182302457"
      ]
     },
     "execution_count": 94,
     "metadata": {},
     "output_type": "execute_result"
    }
   ],
   "source": [
    "crossing_times.mean()"
   ]
  }
 ],
 "metadata": {
  "kernelspec": {
   "display_name": "Python 3",
   "language": "python",
   "name": "python3"
  },
  "language_info": {
   "codemirror_mode": {
    "name": "ipython",
    "version": 3
   },
   "file_extension": ".py",
   "mimetype": "text/x-python",
   "name": "python",
   "nbconvert_exporter": "python",
   "pygments_lexer": "ipython3",
   "version": "3.8.3"
  },
  "toc": {
   "base_numbering": 1,
   "nav_menu": {
    "height": "293px",
    "width": "218px"
   },
   "number_sections": true,
   "sideBar": true,
   "skip_h1_title": false,
   "title_cell": "Table of Contents",
   "title_sidebar": "Contents",
   "toc_cell": false,
   "toc_position": {},
   "toc_section_display": true,
   "toc_window_display": true
  },
  "varInspector": {
   "cols": {
    "lenName": 16,
    "lenType": 16,
    "lenVar": 40
   },
   "kernels_config": {
    "python": {
     "delete_cmd_postfix": "",
     "delete_cmd_prefix": "del ",
     "library": "var_list.py",
     "varRefreshCmd": "print(var_dic_list())"
    },
    "r": {
     "delete_cmd_postfix": ") ",
     "delete_cmd_prefix": "rm(",
     "library": "var_list.r",
     "varRefreshCmd": "cat(var_dic_list()) "
    }
   },
   "types_to_exclude": [
    "module",
    "function",
    "builtin_function_or_method",
    "instance",
    "_Feature"
   ],
   "window_display": false
  }
 },
 "nbformat": 4,
 "nbformat_minor": 4
}
